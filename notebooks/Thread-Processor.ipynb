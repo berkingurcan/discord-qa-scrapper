{
 "cells": [
  {
   "cell_type": "markdown",
   "id": "8a3d0b1d-85c7-42c5-b213-959bb15dbdda",
   "metadata": {},
   "source": [
    "# Archived Chat Processor\n",
    "\n",
    "### Import DF"
   ]
  },
  {
   "cell_type": "code",
   "execution_count": 99,
   "id": "6c4380c2-3498-4c82-aa6e-b19dd2ffe63e",
   "metadata": {},
   "outputs": [],
   "source": [
    "import pandas as pd\n",
    "pd.set_option('display.max_colwidth', None)\n",
    "\n",
    "number_of_csv = 14\n",
    "\n",
    "df = pd.read_csv(f\"{number_of_csv}.csv\")\n",
    "\n",
    "df = df.iloc[::-1]\n",
    "\n",
    "question = {str(df.iloc[0]['author']): df.iloc[0]['content']}\n",
    "\n",
    "answers = []\n",
    "for i in range(1, len(df)):\n",
    "    answers.append({str(df.iloc[i]['author']): df.iloc[i]['content']})"
   ]
  },
  {
   "cell_type": "code",
   "execution_count": 100,
   "id": "bf5a009f-84f1-4532-b83b-21ead475e7b3",
   "metadata": {},
   "outputs": [],
   "source": [
    "data = [\n",
    "    question,\n",
    "    answers\n",
    "]"
   ]
  },
  {
   "cell_type": "code",
   "execution_count": 101,
   "id": "17c074c3-4022-4b67-9f75-1d3e4df63442",
   "metadata": {},
   "outputs": [
    {
     "name": "stdout",
     "output_type": "stream",
     "text": [
      "Data has been exported to processed14.txt\n"
     ]
    }
   ],
   "source": [
    "import json\n",
    "\n",
    "file_path = f\"processed{number_of_csv}.txt\"\n",
    "json_data = json.dumps(data, indent=2)\n",
    "\n",
    "with open(file_path, 'w') as file:\n",
    "    file.write(json_data)\n",
    "\n",
    "print(f'Data has been exported to {file_path}')"
   ]
  },
  {
   "cell_type": "markdown",
   "id": "863cbf31-b39d-460e-a49c-c4476a4b8fc4",
   "metadata": {},
   "source": [
    "### Assistant"
   ]
  },
  {
   "cell_type": "code",
   "execution_count": 40,
   "id": "7a5f76fb-64ed-4ae3-9a2a-661965f6dfac",
   "metadata": {},
   "outputs": [
    {
     "name": "stdout",
     "output_type": "stream",
     "text": [
      "1.2.2\n"
     ]
    }
   ],
   "source": [
    "import openai\n",
    "client = OpenAI(\n",
    "    api_key=\"\",\n",
    ")\n",
    "print(openai.VERSION)"
   ]
  },
  {
   "cell_type": "code",
   "execution_count": 102,
   "id": "9882922c-439c-4c24-8ceb-a76aa25ce5cc",
   "metadata": {},
   "outputs": [],
   "source": [
    "assistant = client.beta.assistants.create(\n",
    "    name=\"Discord Thread Inferer\",\n",
    "    instructions=\"\"\"\n",
    "        You have txt file named processed14.txt.\n",
    "        It is thread datas from a Discord QA Forum Channel.\n",
    "        \n",
    "        First object is the author and the question\n",
    "        Other array of objects are actually answers to the question\n",
    "        \n",
    "        Infer, evaulate and create Full Question: Detailed Answer Pair\n",
    "    \"\"\",\n",
    "    tools=[{\"type\": \"retrieval\"},{\"type\": \"code_interpreter\"}],\n",
    "    model=\"gpt-4-1106-preview\"\n",
    ")"
   ]
  },
  {
   "cell_type": "code",
   "execution_count": 103,
   "id": "e5f9ea57-e9bc-4ebc-9cd0-408c374690d8",
   "metadata": {},
   "outputs": [],
   "source": [
    "file = client.files.create(\n",
    "  file=open(file_path, \"rb\"),\n",
    "  purpose=\"assistants\"\n",
    ")"
   ]
  },
  {
   "cell_type": "code",
   "execution_count": 105,
   "id": "283d82d7-beda-4b78-ad24-a3888427a087",
   "metadata": {},
   "outputs": [],
   "source": [
    "assistant_file = client.beta.assistants.files.create(\n",
    "  assistant_id=assistant.id, \n",
    "  file_id=file.id\n",
    ")"
   ]
  },
  {
   "cell_type": "code",
   "execution_count": 106,
   "id": "3d5245a8-93e4-4d5a-832d-1974856e17ab",
   "metadata": {},
   "outputs": [],
   "source": [
    "thread = client.beta.threads.create()"
   ]
  },
  {
   "cell_type": "code",
   "execution_count": null,
   "id": "ae5de5f2-8c71-4510-b7c9-89c9d3f6f27a",
   "metadata": {},
   "outputs": [],
   "source": [
    "message = client.beta.threads.messages.create(\n",
    "    thread_id=thread.id,\n",
    "    role=\"user\",\n",
    "    content=\"Create Full Question: Detailed Answer pair\"\n",
    ")\n",
    "\n",
    "run = client.beta.threads.runs.create(\n",
    "  thread_id=thread.id,\n",
    "  assistant_id=assistant.id\n",
    ")\n",
    "\n",
    "import time\n",
    "# Add more time if cannot retrieve\n",
    "time.sleep(45)\n",
    "\n",
    "runned = client.beta.threads.runs.retrieve(\n",
    "  thread_id=thread.id,\n",
    "  run_id=run.id\n",
    ")\n",
    "\n",
    "messages = client.beta.threads.messages.list(\n",
    "  thread_id=thread.id\n",
    ")\n",
    "\n",
    "print(messages)"
   ]
  },
  {
   "cell_type": "code",
   "execution_count": 96,
   "id": "a2785a28-0d6d-4c68-ae90-06da0e381eb6",
   "metadata": {},
   "outputs": [
    {
     "name": "stdout",
     "output_type": "stream",
     "text": [
      "{\n",
      "  \"FullQuestion\": \"ion: Detailed Answer pai\",\n",
      "  \"DetailedAnswer\": \"n: Detailed Answer pair\"\n",
      "}\n"
     ]
    }
   ],
   "source": [
    "text = messages.data[0].content[0].text.value\n",
    "question_index = text.find(\"**Full Question:**\")\n",
    "answer_index = text.find(\"**Detailed Answer:**\")\n",
    "\n",
    "full_question = text[question_index + len(\"**Full Question:**\"):answer_index].strip()\n",
    "detailed_answer = text[answer_index + len(\"**Detailed Answer:**\"):].strip()\n",
    "\n",
    "result_json = {\n",
    "    \"FullQuestion\": full_question,\n",
    "    \"DetailedAnswer\": detailed_answer\n",
    "}\n",
    "\n",
    "print(json.dumps(result_json, indent=2))"
   ]
  }
 ],
 "metadata": {
  "kernelspec": {
   "display_name": "Python 3 (ipykernel)",
   "language": "python",
   "name": "python3"
  },
  "language_info": {
   "codemirror_mode": {
    "name": "ipython",
    "version": 3
   },
   "file_extension": ".py",
   "mimetype": "text/x-python",
   "name": "python",
   "nbconvert_exporter": "python",
   "pygments_lexer": "ipython3",
   "version": "3.9.18"
  }
 },
 "nbformat": 4,
 "nbformat_minor": 5
}
