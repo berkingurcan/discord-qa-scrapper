{
 "cells": [
  {
   "cell_type": "markdown",
   "id": "8a3d0b1d-85c7-42c5-b213-959bb15dbdda",
   "metadata": {},
   "source": [
    "# Archived Chat Processor\n",
    "\n",
    "### Import DF"
   ]
  },
  {
   "cell_type": "code",
   "execution_count": 18,
   "id": "6c4380c2-3498-4c82-aa6e-b19dd2ffe63e",
   "metadata": {},
   "outputs": [],
   "source": [
    "import time\n",
    "import pandas as pd\n",
    "pd.set_option('display.max_colwidth', None)\n",
    "\n",
    "number_of_csv = 39\n",
    "\n",
    "df = pd.read_csv(f\"Archive/archived_threads/39.csv\")\n",
    "\n",
    "df = df.iloc[::-1]\n",
    "\n",
    "question = {str(df.iloc[0]['author']): df.iloc[0]['content']}\n",
    "\n",
    "answers = []\n",
    "for i in range(1, len(df)):\n",
    "    answers.append({str(df.iloc[i]['author']): df.iloc[i]['content']})"
   ]
  },
  {
   "cell_type": "code",
   "execution_count": 5,
   "metadata": {},
   "outputs": [
    {
     "data": {
      "text/html": [
       "<div>\n",
       "<style scoped>\n",
       "    .dataframe tbody tr th:only-of-type {\n",
       "        vertical-align: middle;\n",
       "    }\n",
       "\n",
       "    .dataframe tbody tr th {\n",
       "        vertical-align: top;\n",
       "    }\n",
       "\n",
       "    .dataframe thead th {\n",
       "        text-align: right;\n",
       "    }\n",
       "</style>\n",
       "<table border=\"1\" class=\"dataframe\">\n",
       "  <thead>\n",
       "    <tr style=\"text-align: right;\">\n",
       "      <th></th>\n",
       "      <th>id</th>\n",
       "      <th>channel_id</th>\n",
       "      <th>author</th>\n",
       "      <th>referenced_message</th>\n",
       "    </tr>\n",
       "  </thead>\n",
       "  <tbody>\n",
       "    <tr>\n",
       "      <th>count</th>\n",
       "      <td>3.000000e+00</td>\n",
       "      <td>3.000000e+00</td>\n",
       "      <td>3.000000e+00</td>\n",
       "      <td>1.000000e+00</td>\n",
       "    </tr>\n",
       "    <tr>\n",
       "      <th>mean</th>\n",
       "      <td>1.165160e+18</td>\n",
       "      <td>1.164909e+18</td>\n",
       "      <td>5.111053e+17</td>\n",
       "      <td>1.164909e+18</td>\n",
       "    </tr>\n",
       "    <tr>\n",
       "      <th>std</th>\n",
       "      <td>2.603171e+14</td>\n",
       "      <td>0.000000e+00</td>\n",
       "      <td>3.321686e+17</td>\n",
       "      <td>NaN</td>\n",
       "    </tr>\n",
       "    <tr>\n",
       "      <th>min</th>\n",
       "      <td>1.165010e+18</td>\n",
       "      <td>1.164909e+18</td>\n",
       "      <td>3.193277e+17</td>\n",
       "      <td>1.164909e+18</td>\n",
       "    </tr>\n",
       "    <tr>\n",
       "      <th>25%</th>\n",
       "      <td>1.165010e+18</td>\n",
       "      <td>1.164909e+18</td>\n",
       "      <td>3.193277e+17</td>\n",
       "      <td>1.164909e+18</td>\n",
       "    </tr>\n",
       "    <tr>\n",
       "      <th>50%</th>\n",
       "      <td>1.165010e+18</td>\n",
       "      <td>1.164909e+18</td>\n",
       "      <td>3.193277e+17</td>\n",
       "      <td>1.164909e+18</td>\n",
       "    </tr>\n",
       "    <tr>\n",
       "      <th>75%</th>\n",
       "      <td>1.165236e+18</td>\n",
       "      <td>1.164909e+18</td>\n",
       "      <td>6.069941e+17</td>\n",
       "      <td>1.164909e+18</td>\n",
       "    </tr>\n",
       "    <tr>\n",
       "      <th>max</th>\n",
       "      <td>1.165461e+18</td>\n",
       "      <td>1.164909e+18</td>\n",
       "      <td>8.946606e+17</td>\n",
       "      <td>1.164909e+18</td>\n",
       "    </tr>\n",
       "  </tbody>\n",
       "</table>\n",
       "</div>"
      ],
      "text/plain": [
       "                 id    channel_id        author  referenced_message\n",
       "count  3.000000e+00  3.000000e+00  3.000000e+00        1.000000e+00\n",
       "mean   1.165160e+18  1.164909e+18  5.111053e+17        1.164909e+18\n",
       "std    2.603171e+14  0.000000e+00  3.321686e+17                 NaN\n",
       "min    1.165010e+18  1.164909e+18  3.193277e+17        1.164909e+18\n",
       "25%    1.165010e+18  1.164909e+18  3.193277e+17        1.164909e+18\n",
       "50%    1.165010e+18  1.164909e+18  3.193277e+17        1.164909e+18\n",
       "75%    1.165236e+18  1.164909e+18  6.069941e+17        1.164909e+18\n",
       "max    1.165461e+18  1.164909e+18  8.946606e+17        1.164909e+18"
      ]
     },
     "execution_count": 5,
     "metadata": {},
     "output_type": "execute_result"
    }
   ],
   "source": [
    "df.describe()"
   ]
  },
  {
   "cell_type": "code",
   "execution_count": 79,
   "id": "bf5a009f-84f1-4532-b83b-21ead475e7b3",
   "metadata": {},
   "outputs": [],
   "source": [
    "data = [\n",
    "    question,\n",
    "    answers\n",
    "]"
   ]
  },
  {
   "cell_type": "code",
   "execution_count": 19,
   "id": "17c074c3-4022-4b67-9f75-1d3e4df63442",
   "metadata": {},
   "outputs": [],
   "source": [
    "import json\n",
    "\n",
    "file_path = f\"processed{number_of_csv}.json\"\n",
    "df.to_json(file_path, index=False)\n",
    "# json_data = json.dumps(data, indent=2)\n",
    "\n",
    "# with open(file_path, 'w') as file:\n",
    "#     file.write(json_data)\n",
    "\n",
    "# print(f'Data has been exported to {file_path}')"
   ]
  },
  {
   "cell_type": "markdown",
   "id": "863cbf31-b39d-460e-a49c-c4476a4b8fc4",
   "metadata": {},
   "source": [
    "### Assistant"
   ]
  },
  {
   "cell_type": "code",
   "execution_count": 2,
   "id": "7a5f76fb-64ed-4ae3-9a2a-661965f6dfac",
   "metadata": {},
   "outputs": [
    {
     "name": "stdout",
     "output_type": "stream",
     "text": [
      "1.2.3\n"
     ]
    }
   ],
   "source": [
    "import openai\n",
    "\n",
    "client = openai.OpenAI(\n",
    ")\n",
    "print(openai.VERSION)"
   ]
  },
  {
   "cell_type": "code",
   "execution_count": 3,
   "id": "9882922c-439c-4c24-8ceb-a76aa25ce5cc",
   "metadata": {},
   "outputs": [],
   "source": [
    "assistant = client.beta.assistants.create(\n",
    "    name=\"Discord Thread Inferer\",\n",
    "    instructions=\"\"\"\n",
    "         You have csv file named processed1.csv\n",
    "        It is thread datas from a Discord QA Forum Channel.\n",
    "        \n",
    "        It is a list of messages in a discord channel, the first message is the probably question and the rest are probably answers.\n",
    "        All messages are from the same thread in a forum channel. Read all the messages and infer the question and answer pair.\n",
    "        Find the correct answer for the question and return it as the final result.\n",
    "        \n",
    "        Infer, evaulate and create Full Question: Detailed Answer Pair\n",
    "        Return a valid JSON as the final result, if there is no answer in the messages, return null. Thank you is not an answer, this data will be used for training so please remove unnecessary data.\n",
    "        Give me a JSON file with the following format:\n",
    "        {\n",
    "        \"question\": \"The question\",\n",
    "        \"answer\": \"The answer\" or None\n",
    "        }\n",
    "    \"\"\",\n",
    "    tools=[\n",
    "        {\"type\": \"retrieval\"},\n",
    "        {\"type\": \"code_interpreter\"}\n",
    "    ],\n",
    "    model=\"gpt-4-1106-preview\"\n",
    ")"
   ]
  },
  {
   "cell_type": "code",
   "execution_count": 25,
   "metadata": {},
   "outputs": [],
   "source": [
    "thread = client.beta.threads.retrieve(\n",
    "    thread_id=\"thread_HqgyK97QxH7CTFTXVUAc6ZSt\"\n",
    ")"
   ]
  },
  {
   "cell_type": "code",
   "execution_count": 26,
   "metadata": {},
   "outputs": [],
   "source": [
    "runs = client.beta.threads.runs.list(\n",
    "    thread_id=\"thread_HqgyK97QxH7CTFTXVUAc6ZSt\"\n",
    ")"
   ]
  },
  {
   "cell_type": "code",
   "execution_count": 32,
   "metadata": {},
   "outputs": [],
   "source": [
    "messagess = client.beta.threads.messages.list(\n",
    "    thread_id=\"thread_HqgyK97QxH7CTFTXVUAc6ZSt\"\n",
    ")"
   ]
  },
  {
   "cell_type": "code",
   "execution_count": 46,
   "metadata": {},
   "outputs": [
    {
     "data": {
      "text/plain": [
       "'file-EoYS3XtFLzMAB41IBsKwO8Sr'"
      ]
     },
     "execution_count": 46,
     "metadata": {},
     "output_type": "execute_result"
    }
   ],
   "source": [
    "messagess.data[2].content[0].text.annotations[0].file_path.file_id"
   ]
  },
  {
   "cell_type": "code",
   "execution_count": 47,
   "metadata": {},
   "outputs": [
    {
     "data": {
      "text/plain": [
       "FileObject(id='file-EoYS3XtFLzMAB41IBsKwO8Sr', bytes=228, created_at=1699827917, filename='/mnt/data/qa_pair.json', object='file', purpose='assistants_output', status='processed', status_details=None)"
      ]
     },
     "execution_count": 47,
     "metadata": {},
     "output_type": "execute_result"
    }
   ],
   "source": [
    "file_output = client.files.retrieve(\n",
    "    file_id=messagess.data[2].content[0].text.annotations[0].file_path.file_id\n",
    ")\n",
    "file_output"
   ]
  },
  {
   "cell_type": "code",
   "execution_count": 50,
   "metadata": {},
   "outputs": [
    {
     "data": {
      "text/plain": [
       "b'{\"question\": \"What commitment scheme is most efficient to use in a zkApp?\", \"answer\": \"Poseidon hash, as using this with a custom gate to create commitments is more efficient than doing scalar multiplications in provable code.\"}'"
      ]
     },
     "execution_count": 50,
     "metadata": {},
     "output_type": "execute_result"
    }
   ],
   "source": [
    "content = client.files.content(file_id=messagess.data[2].content[0].text.annotations[0].file_path.file_id)\n",
    "content.content"
   ]
  },
  {
   "cell_type": "code",
   "execution_count": 9,
   "metadata": {},
   "outputs": [
    {
     "data": {
      "text/plain": [
       "'processed1.txt'"
      ]
     },
     "execution_count": 9,
     "metadata": {},
     "output_type": "execute_result"
    }
   ],
   "source": [
    "file_path"
   ]
  },
  {
   "cell_type": "code",
   "execution_count": 21,
   "id": "e5f9ea57-e9bc-4ebc-9cd0-408c374690d8",
   "metadata": {},
   "outputs": [],
   "source": [
    "file = client.files.create(\n",
    "  file=open(file_path, \"rb\"),\n",
    "  purpose=\"assistants\"\n",
    ")"
   ]
  },
  {
   "cell_type": "code",
   "execution_count": 22,
   "id": "283d82d7-beda-4b78-ad24-a3888427a087",
   "metadata": {},
   "outputs": [],
   "source": [
    "assistant_file = client.beta.assistants.files.create(\n",
    "  assistant_id=assistant.id, \n",
    "  file_id=file.id\n",
    ")"
   ]
  },
  {
   "cell_type": "code",
   "execution_count": 23,
   "id": "3d5245a8-93e4-4d5a-832d-1974856e17ab",
   "metadata": {},
   "outputs": [],
   "source": [
    "thread = client.beta.threads.create()"
   ]
  },
  {
   "cell_type": "code",
   "execution_count": 14,
   "id": "ae5de5f2-8c71-4510-b7c9-89c9d3f6f27a",
   "metadata": {},
   "outputs": [
    {
     "name": "stdout",
     "output_type": "stream",
     "text": [
      "Run creation status:  queued\n",
      "Runned but not completed yet, waiting 5 seconds in_progress\n",
      "Runned but not completed yet, waiting 5 seconds in_progress\n",
      "Runned but not completed yet, waiting 5 seconds in_progress\n",
      "Runned but not completed yet, waiting 5 seconds in_progress\n",
      "Runned but not completed yet, waiting 5 seconds in_progress\n",
      "Runned but not completed yet, waiting 5 seconds in_progress\n",
      "SyncCursorPage[ThreadMessage](data=[ThreadMessage(id='msg_Tio5TYr4DFO38V4ZXSA4L8C2', assistant_id='asst_bkzbibx63TvejcFhRva0QzvM', content=[MessageContentText(text=Text(annotations=[], value='To create a full question and detailed answer pair from the thread data provided, it\\'s essential to understand the context of the discussion. After reviewing the conversation, it\\'s apparent that the topic revolves around setting up blockchain nodes and confirming their readiness.\\n\\nThe initial inquiry seems to be missing, but based on the responses, I can infer that the original question was about the status of blockchain node (bp) setup for a project, as acknowledged by one participant\\'s confirmation and another\\'s mention of an email checker and nodes being set up.\\n\\nGiven the responses, the most logical inferred question and answer pair would be:\\n\\n**Question:** \"Has everyone set up their blockchain nodes as per the instructions, and can anyone report if they\\'re running smoothly or experiencing issues?\"\\n\\n**Answer:** Multiple members confirmed that their nodes are set up and running smoothly. One participant mentioned not to trust email trackers as their email actively kills them. Another participant appreciated the confirmations and noted that while email trackers might not be reliable, double-checking with the information they have is crucial. Others confirmed that both their block producer nodes are ready, and one clarified that such announcements should be configured to broadcast to other servers for wider visibility.\\n\\nWe can form a more coherent answer from this:\\n\\n**Answer:** \"The participants confirmed that their blockchain nodes have been successfully set up and are operational. There were some discussions around the reliability of email trackers, with suggestions to improve communication for future updates. However, no significant issues with the nodes were reported by the members.”\\n\\nPutting this into a JSON format for the training data:\\n\\n```json\\n{\\n  \"question\": \"Has everyone set up their blockchain nodes as per the instructions, and can anyone report if they\\'re running smoothly or experiencing issues?\",\\n  \"answer\": \"The participants confirmed that their blockchain nodes have been successfully set up and are operational. There were some discussions around the reliability of email trackers, with suggestions to improve communication for future updates. However, no significant issues with the nodes were reported by the members.\"\\n}\\n```\\n\\nThis inferred Q&A pair captures the essence of the discussion. If more details become available or if an actual question is identified, it can be refined further.'), type='text')], created_at=1699826859, file_ids=[], metadata={}, object='thread.message', role='assistant', run_id='run_zAp4glMwVlYcsu4zbGYXSlna', thread_id='thread_vWWClhFuCg4pExE3enkKtWJL'), ThreadMessage(id='msg_OTsy8bTp8BgHlIP64KWFZ1IQ', assistant_id=None, content=[MessageContentText(text=Text(annotations=[], value='Create Full Question: Detailed Answer pair'), type='text')], created_at=1699826855, file_ids=[], metadata={}, object='thread.message', role='user', run_id=None, thread_id='thread_vWWClhFuCg4pExE3enkKtWJL')], object='list', first_id='msg_Tio5TYr4DFO38V4ZXSA4L8C2', last_id='msg_OTsy8bTp8BgHlIP64KWFZ1IQ', has_more=False)\n"
     ]
    }
   ],
   "source": [
    "message = client.beta.threads.messages.create(\n",
    "    thread_id=thread.id,\n",
    "    role=\"user\",\n",
    "    content=\"Create Full Question: Detailed Answer pair\"\n",
    ")\n",
    "\n",
    "run = client.beta.threads.runs.create(\n",
    "  thread_id=thread.id,\n",
    "  assistant_id=assistant.id\n",
    ")\n",
    "print(\"Run creation status: \", run.status)\n",
    "while True:\n",
    "   run_object = client.beta.threads.runs.retrieve(\n",
    "     thread_id=thread.id,\n",
    "     run_id=run.id\n",
    "   )\n",
    "   if run_object.status == 'completed':\n",
    "      break\n",
    "   if run_object.status == 'failed' or run_object.status == 'requires_action':\n",
    "      print(run_object.model_dump()[\"last_error\"][\"message\"])\n",
    "   print(\"Runned but not completed yet, waiting 5 seconds\", run_object.status)\n",
    "   time.sleep(2)\n",
    "runned = client.beta.threads.runs.retrieve(\n",
    "  thread_id=thread.id,\n",
    "  run_id=run.id\n",
    ")\n",
    "\n",
    "messages = client.beta.threads.messages.list(\n",
    "  thread_id=thread.id\n",
    ")\n",
    "\n",
    "print(messages)"
   ]
  },
  {
   "cell_type": "code",
   "execution_count": 15,
   "metadata": {},
   "outputs": [
    {
     "name": "stdout",
     "output_type": "stream",
     "text": [
      "{\"id\":\"run_zAp4glMwVlYcsu4zbGYXSlna\",\"assistant_id\":\"asst_bkzbibx63TvejcFhRva0QzvM\",\"cancelled_at\":null,\"completed_at\":1699826868,\"created_at\":1699826856,\"expires_at\":null,\"failed_at\":null,\"file_ids\":[\"file-Kumps46N8PbJmvL88xdZ6EkI\",\"file-G1x1RvDHaVHC0v22wey6B3Ti\"],\"instructions\":\"\\n        You have csv file named processed1.csv\\n        It is thread datas from a Discord QA Forum Channel.\\n        \\n        It is a list of messages in a discord channel, the first message is the probably question and the rest are probably answers.\\n        All messages are from the same thread in a forum channel. Read all the messages and infer the question and answer pair.\\n        \\n        Infer, evaulate and create Full Question: Detailed Answer Pair\\n        Return a valid JSON as the final result, if there is no answer in the messages, return null. Thank you is not an answer, this data will be used for training so please remove unnecessary data.\\n        {\\n        \\\"question\\\": \\\"The question\\\",\\n        \\\"answer\\\": \\\"The answer\\\" or None\\n        }\\n    \",\"last_error\":null,\"metadata\":{},\"model\":\"gpt-4-1106-preview\",\"object\":\"thread.run\",\"required_action\":null,\"started_at\":1699826856,\"status\":\"completed\",\"thread_id\":\"thread_vWWClhFuCg4pExE3enkKtWJL\",\"tools\":[{\"type\":\"retrieval\"},{\"type\":\"code_interpreter\"},{\"function\":{\"name\":\"displayResults\",\"parameters\":{\"type\":\"object\",\"properties\":{\"question\":{\"type\":\"string\",\"description\":\"The question askedin the forum\"},\"answer\":{\"type\":\"string\",\"description\":\"The answer to the question, if available\"}},\"required\":[\"question\"]},\"description\":\"Use this function to display the final results\"},\"type\":\"function\"}]}\n"
     ]
    }
   ],
   "source": [
    "print(run_object.model_dump_json())"
   ]
  },
  {
   "cell_type": "code",
   "execution_count": 17,
   "metadata": {},
   "outputs": [
    {
     "name": "stdout",
     "output_type": "stream",
     "text": [
      "Message 1:\n",
      "To create a full question and detailed answer pair from the thread data provided, it's essential to understand the context of the discussion. After reviewing the conversation, it's apparent that the topic revolves around setting up blockchain nodes and confirming their readiness.\n",
      "\n",
      "The initial inquiry seems to be missing, but based on the responses, I can infer that the original question was about the status of blockchain node (bp) setup for a project, as acknowledged by one participant's confirmation and another's mention of an email checker and nodes being set up.\n",
      "\n",
      "Given the responses, the most logical inferred question and answer pair would be:\n",
      "\n",
      "**Question:** \"Has everyone set up their blockchain nodes as per the instructions, and can anyone report if they're running smoothly or experiencing issues?\"\n",
      "\n",
      "**Answer:** Multiple members confirmed that their nodes are set up and running smoothly. One participant mentioned not to trust email trackers as their email actively kills them. Another participant appreciated the confirmations and noted that while email trackers might not be reliable, double-checking with the information they have is crucial. Others confirmed that both their block producer nodes are ready, and one clarified that such announcements should be configured to broadcast to other servers for wider visibility.\n",
      "\n",
      "We can form a more coherent answer from this:\n",
      "\n",
      "**Answer:** \"The participants confirmed that their blockchain nodes have been successfully set up and are operational. There were some discussions around the reliability of email trackers, with suggestions to improve communication for future updates. However, no significant issues with the nodes were reported by the members.”\n",
      "\n",
      "Putting this into a JSON format for the training data:\n",
      "\n",
      "```json\n",
      "{\n",
      "  \"question\": \"Has everyone set up their blockchain nodes as per the instructions, and can anyone report if they're running smoothly or experiencing issues?\",\n",
      "  \"answer\": \"The participants confirmed that their blockchain nodes have been successfully set up and are operational. There were some discussions around the reliability of email trackers, with suggestions to improve communication for future updates. However, no significant issues with the nodes were reported by the members.\"\n",
      "}\n",
      "```\n",
      "\n",
      "This inferred Q&A pair captures the essence of the discussion. If more details become available or if an actual question is identified, it can be refined further.\n",
      "Message 2:\n",
      "Create Full Question: Detailed Answer pair\n"
     ]
    }
   ],
   "source": [
    "for i, message in enumerate(messages.data):\n",
    "  print(f'Message {i+1}:')\n",
    "  print(message.content[0].text.value)"
   ]
  },
  {
   "cell_type": "code",
   "execution_count": 39,
   "id": "a2785a28-0d6d-4c68-ae90-06da0e381eb6",
   "metadata": {},
   "outputs": [
    {
     "name": "stdout",
     "output_type": "stream",
     "text": [
      "{\n",
      "  \"FullQuestion\": \"n you guys post the address list of nodes that can't be accessed via this port so we may check on our own again to ensure?\\n\\nDetailed Answer: Thanks for this suggestion. I have published the list\",\n",
      "  \"DetailedAnswer\": \"you guys post the address list of nodes that can't be accessed via this port so we may check on our own again to ensure?\\n\\nDetailed Answer: Thanks for this suggestion. I have published the list.\"\n",
      "}\n"
     ]
    }
   ],
   "source": [
    "text = messages.data[0].content[0].text.value\n",
    "question_index = text.find(\"**Full Question:**\")\n",
    "answer_index = text.find(\"**Detailed Answer:**\")\n",
    "\n",
    "full_question = text[question_index + len(\"**Full Question:**\"):answer_index].strip()\n",
    "detailed_answer = text[answer_index + len(\"**Detailed Answer:**\"):].strip()\n",
    "\n",
    "result_json = {\n",
    "    \"FullQuestion\": full_question,\n",
    "    \"DetailedAnswer\": detailed_answer\n",
    "}\n",
    "\n",
    "print(json.dumps(result_json, indent=2))"
   ]
  },
  {
   "cell_type": "code",
   "execution_count": null,
   "metadata": {},
   "outputs": [],
   "source": []
  }
 ],
 "metadata": {
  "kernelspec": {
   "display_name": "Python 3 (ipykernel)",
   "language": "python",
   "name": "python3"
  },
  "language_info": {
   "codemirror_mode": {
    "name": "ipython",
    "version": 3
   },
   "file_extension": ".py",
   "mimetype": "text/x-python",
   "name": "python",
   "nbconvert_exporter": "python",
   "pygments_lexer": "ipython3",
   "version": "3.11.0"
  }
 },
 "nbformat": 4,
 "nbformat_minor": 5
}
